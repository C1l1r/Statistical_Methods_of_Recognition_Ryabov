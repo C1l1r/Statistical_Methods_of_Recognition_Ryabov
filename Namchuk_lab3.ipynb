{
 "cells": [
  {
   "cell_type": "markdown",
   "source": [
    "## Лабораторна робота 3\n",
    "## Спостерігається послідовність незалежних нормально розподілених випадкових величин x1,...,xn (наприклад, n=100) з дисперсією 1. Математичне сподівання кожної величини залежить від поточного стану системи. Припустимо, що для стану k=1, математичне сподівання рівне або a1=0 або a1=1, а для стану k=2, математичне сподівання рівне або a2=2 або a2=3. Нехай справжні математичні сподівання рівні a1=0, a2=3, стан k=1 виникає з ймовірністю 1/3, а стан k=2 – з ймовірністю 2/3. Потрібно згенерувати n незалежних випадкових величин з нормальним розподілом, причому з ймовірністю 1/3 їх математичне сподівання рівне 0, дисперсія рівна 1, а з ймовірністю 2/3 їх математичне сподівання рівне 3, дисперсія рівна 1. Починаючи з оцінок P(k=1)=P(k=2)=0.5, a1=1, a2=2 реалізувати алгоритм самонавчання. Умовою зупинки алгоритму можна вважати, що оцінки a1, a2 не змінюються, а оцінки P(k=1), P(k=2) відрізняються менше ніж на 0.001."
   ],
   "metadata": {
    "collapsed": false
   },
   "id": "3a9a3fd328991d73"
  },
  {
   "cell_type": "code",
   "execution_count": 1,
   "outputs": [
    {
     "data": {
      "text/plain": "(0.3454763588142003,\n 0.6545236411857998,\n 0.09964443115484939,\n 3.123132576450254,\n 9)"
     },
     "execution_count": 1,
     "metadata": {},
     "output_type": "execute_result"
    }
   ],
   "source": [
    "import numpy as np\n",
    "from scipy.stats import norm\n",
    "\n",
    "# Given: a sequence of independent normally distributed random variables x1,...,xn\n",
    "# with variance 1 and mean depending on the current state of the system.\n",
    "# For state k=1, mean a1=0, for state k=2, mean a2=3.\n",
    "# State k=1 occurs with probability 1/3, and state k=2 with probability 2/3.\n",
    "# Starting estimates: P(k=1)=P(k=2)=0.5, a1=1, a2=2.\n",
    "\n",
    "def e_step(data, p1, p2, a1, a2, variance):\n",
    "    \"\"\"E-step of the EM algorithm, calculates the expected responsibilities.\"\"\"\n",
    "    likelihood_1 = p1 * norm.pdf(data, a1, np.sqrt(variance))\n",
    "    likelihood_2 = p2 * norm.pdf(data, a2, np.sqrt(variance))\n",
    "    total_likelihood = likelihood_1 + likelihood_2\n",
    "\n",
    "    # responsibilities\n",
    "    gamma_1 = likelihood_1 / total_likelihood\n",
    "    gamma_2 = likelihood_2 / total_likelihood\n",
    "\n",
    "    return gamma_1, gamma_2\n",
    "\n",
    "def m_step(data, gamma_1, gamma_2):\n",
    "    \"\"\"M-step of the EM algorithm, updates the parameter estimates.\"\"\"\n",
    "    # update the probabilities\n",
    "    p1 = np.mean(gamma_1)\n",
    "    p2 = np.mean(gamma_2)\n",
    "\n",
    "    # update the means\n",
    "    a1 = np.sum(gamma_1 * data) / np.sum(gamma_1)\n",
    "    a2 = np.sum(gamma_2 * data) / np.sum(gamma_2)\n",
    "\n",
    "    return p1, p2, a1, a2\n",
    "\n",
    "def em_algorithm(n=100, tol=0.001, max_iter=1000):\n",
    "    \"\"\"The EM algorithm.\"\"\"\n",
    "    # True parameters (unknown to the algorithm)\n",
    "    true_p1, true_p2 = 1/3, 2/3\n",
    "    true_a1, true_a2 = 0, 3\n",
    "    variance = 1\n",
    "\n",
    "    # Initial estimates\n",
    "    p1, p2 = 0.5, 0.5\n",
    "    a1, a2 = 1, 2\n",
    "\n",
    "    # Generate data\n",
    "    data = np.concatenate((np.random.normal(true_a1, np.sqrt(variance), int(n * true_p1)),\n",
    "                           np.random.normal(true_a2, np.sqrt(variance), int(n * true_p2))))\n",
    "    np.random.shuffle(data)  # Shuffle the data to ensure randomness\n",
    "\n",
    "    for iteration in range(max_iter):\n",
    "        # Store the old values for checking convergence\n",
    "        old_p1, old_p2, old_a1, old_a2 = p1, p2, a1, a2\n",
    "\n",
    "        # E-step: calculate responsibilities\n",
    "        gamma_1, gamma_2 = e_step(data, p1, p2, a1, a2, variance)\n",
    "\n",
    "        # M-step: update the parameter estimates\n",
    "        p1, p2, a1, a2 = m_step(data, gamma_1, gamma_2)\n",
    "\n",
    "        # Check convergence\n",
    "        if max(abs(p1 - old_p1), abs(p2 - old_p2), abs(a1 - old_a1), abs(a2 - old_a2)) < tol:\n",
    "            break\n",
    "\n",
    "    return {'p1': p1, 'p2': p2, 'a1': a1, 'a2': a2, 'iterations': iteration+1}\n",
    "\n",
    "# Run the EM algorithm\n",
    "em_results = em_algorithm()\n",
    "em_results\n"
   ],
   "metadata": {
    "collapsed": false,
    "ExecuteTime": {
     "end_time": "2024-01-11T22:59:33.366617654Z",
     "start_time": "2024-01-11T22:59:32.581815742Z"
    }
   },
   "id": "2278658ebd7785ce"
  },
  {
   "cell_type": "markdown",
   "source": [
    "Функція e_step:\n",
    "        Для кожного спостереження у даних розраховується ймовірність (likelihood) того, що воно належить до першого розподілу (з параметрами a1a1 та варіансом 1) та до другого розподілу (з параметрами та варіансом 1).\n",
    "        Ці ймовірності нормалізуються для того, щоб отримати \"відповідальності\" та, які представляють ймовірність того, що кожне спостереження належить до першого чи другого розподілу відповідно.\n",
    "\n",
    "Функція m_step:\n",
    "        Використовуючи відповідальності з попереднього кроку, оновлюються оцінки ймовірностей станів P(k=1)P(k=1) та P(k=2)P(k=2) як середнє значення відповідальностей.\n",
    "        Оновлюються оцінки математичних сподівань для кожного з розподілів як зважені середні значення спостережень, де ваги це відповідальності.\n",
    "\n",
    "Функція em_algorithm:\n",
    "        Ініціалізуються початкові параметри для ймовірностей та математичних сподівань.\n",
    "        Генерується набір даних з нормальних розподілів з істинними значеннями параметрів, які алгоритм намагається оцінити.\n",
    "        Виконується цикл, який чергує E-крок та M-крок до тих пір, поки зміни в параметрах не стануть меншими за заданий поріг toltol або не буде досягнуто максимальну кількість ітерацій.\n",
    "        У кожній ітерації зберігаються старі значення параметрів, щоб можна було порівняти їх із новими оцінками та перевірити, чи алгоритм досягнув збіжності."
   ],
   "metadata": {
    "collapsed": false
   },
   "id": "49f1f9548d416915"
  },
  {
   "cell_type": "code",
   "execution_count": null,
   "outputs": [],
   "source": [],
   "metadata": {
    "collapsed": false
   },
   "id": "41563b257db94d5d"
  }
 ],
 "metadata": {
  "kernelspec": {
   "display_name": "Python 3",
   "language": "python",
   "name": "python3"
  },
  "language_info": {
   "codemirror_mode": {
    "name": "ipython",
    "version": 2
   },
   "file_extension": ".py",
   "mimetype": "text/x-python",
   "name": "python",
   "nbconvert_exporter": "python",
   "pygments_lexer": "ipython2",
   "version": "2.7.6"
  }
 },
 "nbformat": 4,
 "nbformat_minor": 5
}
