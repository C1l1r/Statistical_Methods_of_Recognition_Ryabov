{
 "cells": [
  {
   "cell_type": "markdown",
   "source": [
    "## Дана послідовність з 0 та 1, яка була отримана зміною кожної цифри початкової послідовності(яка також була з 0 і 1) з ймовірністю 0.5 для кожної цифри, незалежно одна від одної. Потрібно знайти оптимальну стратегію для відшукання суми всіх цифр початкової послідовності. Штрафною функцією буде різниця між сумами 2 послідовностей в квадраті.\n"
   ],
   "metadata": {
    "collapsed": false
   },
   "id": "55c50b5cc69e1b86"
  },
  {
   "cell_type": "markdown",
   "source": [
    "## Завдання полягає у мінімізації середнього ризику при вгадуванні початкової послідовності K з урахуванням спотвореної послідовності X. Функція втрат W описує штраф за неточну оцінку, яка залежить від квадрату різниці між сумою елементів оцінки q і сумою елементів початкової послідовності K.\n",
    "\n",
    "## Задача мінімізації середнього ризику включає знаходження такого естиматора q_hat, який би мінімізував очікувану величину штрафної функції по всіх можливих значеннях початкової послідовності K і її відображення X. Якщо ми вважатимемо, що всі послідовності рівноймовірні, то проблема зводиться до знаходження естиматора q_hat, який б минімізував суму штрафних функцій по всіх можливих комбінаціях послідовностей.\n",
    "\n"
   ],
   "metadata": {
    "collapsed": false
   },
   "id": "a86cf53fb632968a"
  },
  {
   "cell_type": "code",
   "execution_count": 11,
   "outputs": [
    {
     "data": {
      "text/plain": "(1, 2.0)"
     },
     "execution_count": 11,
     "metadata": {},
     "output_type": "execute_result"
    }
   ],
   "source": [
    "from itertools import product\n",
    "\n",
    "# Визначаємо функцію втрат\n",
    "def loss_function(q_hat, k):\n",
    "    return (q_hat - sum(k)) ** 2\n",
    "\n",
    "# Визначаємо функцію для розрахунку середнього ризику\n",
    "def average_risk(n):\n",
    "    # Генеруємо всі можливі послідовності для K і X\n",
    "    sequences = list(product([0, 1], repeat=n))\n",
    "\n",
    "    # Визначаємо мінімальний ризик та оптимальний естиматор\n",
    "    min_risk = float('inf')\n",
    "    optimal_q_hat = None\n",
    "\n",
    "    # Перебираємо всі можливі значення естиматора q_hat\n",
    "    for q_hat in range(n+1):\n",
    "        # Розраховуємо сумарний ризик для даного q_hat\n",
    "        total_risk = 0\n",
    "        for k in sequences:\n",
    "            for x in sequences:\n",
    "                # Ймовірність послідовності k при заданій x\n",
    "                p_k_x = (0.5 ** n)\n",
    "                # Додавання ризику для даної пари (x, k)\n",
    "                total_risk += p_k_x * loss_function(q_hat, k)\n",
    "        \n",
    "\n",
    "        # Оновлюємо мінімальний ризик та оптимальний естиматор, якщо знайдено менший ризик\n",
    "        if total_risk < min_risk:\n",
    "            min_risk = total_risk\n",
    "            optimal_q_hat = q_hat\n",
    "\n",
    "    return optimal_q_hat, min_risk\n",
    "\n",
    "# Використовуємо функцію для n = 2 як приклад\n",
    "optimal_q_hat, min_risk = average_risk(2)\n",
    "optimal_q_hat, min_risk\n"
   ],
   "metadata": {
    "collapsed": false,
    "ExecuteTime": {
     "end_time": "2023-12-09T19:03:43.153873284Z",
     "start_time": "2023-12-09T19:03:43.113369708Z"
    }
   },
   "id": "253f829e8a4290af"
  },
  {
   "cell_type": "code",
   "execution_count": null,
   "outputs": [],
   "source": [],
   "metadata": {
    "collapsed": false
   },
   "id": "4df47da3765251c0"
  }
 ],
 "metadata": {
  "kernelspec": {
   "display_name": "Python 3",
   "language": "python",
   "name": "python3"
  },
  "language_info": {
   "codemirror_mode": {
    "name": "ipython",
    "version": 2
   },
   "file_extension": ".py",
   "mimetype": "text/x-python",
   "name": "python",
   "nbconvert_exporter": "python",
   "pygments_lexer": "ipython2",
   "version": "2.7.6"
  }
 },
 "nbformat": 4,
 "nbformat_minor": 5
}
